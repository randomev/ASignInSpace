{
 "cells": [
  {
   "attachments": {},
   "cell_type": "markdown",
   "metadata": {},
   "source": [
    "Try as sound binary data17.txt"
   ]
  },
  {
   "cell_type": "code",
   "execution_count": 12,
   "metadata": {},
   "outputs": [],
   "source": [
    "import numpy as np\n",
    "import sounddevice as sd\n",
    "\n",
    "filename = \"../artifacts/data17.txt\"\n",
    "# Open the file in read mode\n",
    "with open(filename, \"r\") as file:\n",
    "    data = file.read()  # Read the content of the file\n",
    "\n",
    "# Convert the string data to a list, where each character (0 or 1) is an element of the list\n",
    "binary_array = [int(bit) for bit in data if bit == '0' or bit == '1']\n",
    "\n",
    "# Convert list to numpy array\n",
    "numpy_array = np.array(binary_array)\n",
    "\n",
    "# Convert binary array to float array\n",
    "float_array = numpy_array.astype(np.float32)\n",
    "\n",
    "# Play the array\n",
    "sd.play(float_array, samplerate=8000)\n",
    "\n"
   ]
  }
 ],
 "metadata": {
  "kernelspec": {
   "display_name": "Python 3.8.9 64-bit",
   "language": "python",
   "name": "python3"
  },
  "language_info": {
   "codemirror_mode": {
    "name": "ipython",
    "version": 3
   },
   "file_extension": ".py",
   "mimetype": "text/x-python",
   "name": "python",
   "nbconvert_exporter": "python",
   "pygments_lexer": "ipython3",
   "version": "3.8.9"
  },
  "orig_nbformat": 4,
  "vscode": {
   "interpreter": {
    "hash": "31f2aee4e71d21fbe5cf8b01ff0e069b9275f58929596ceb00d14d90e3e16cd6"
   }
  }
 },
 "nbformat": 4,
 "nbformat_minor": 2
}
